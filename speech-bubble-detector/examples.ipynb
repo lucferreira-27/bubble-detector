{
 "cells": [
  {
   "cell_type": "markdown",
   "metadata": {},
   "source": [
    "## Annotate Comics/Manga\n",
    "Download comictextdetector.pt and put it into data directory.\n",
    "Run next block to generate following annotations for data\\examples\\AisazuNihaIrarenai-003.jpg:\n",
    "- AisazuNihaIrarenai-003.txt: yolo format bounding boxes of english&japanese text block bounding boxes. 0 is eng.\n",
    "- mask-AisazuNihaIrarenai-003.png\n",
    "- line-AisazuNihaIrarenai-003.txt: icdar format bboxes of text lines."
   ]
  },
  {
   "cell_type": "code",
   "execution_count": 1,
   "metadata": {},
   "outputs": [
    {
     "name": "stderr",
     "output_type": "stream",
     "text": [
      "100%|██████████| 1/1 [00:04<00:00,  4.78s/it]\n"
     ]
    }
   ],
   "source": [
    "from inference import model2annotations\n",
    "\n",
    "img_dir = r'data/examples'\n",
    "model_path = r'data/comictextdetector.pt'\n",
    "img_dir = r'data/examples'                              # can be dir list\n",
    "save_dir = r'data/examples/annotations'\n",
    "model2annotations(model_path, img_dir, save_dir, save_json=False)"
   ]
  }
 ],
 "metadata": {
  "interpreter": {
   "hash": "545b34d9a5e72e2b90b819a16ec22002dd3dc9d66aaf1029c3177c6408a5603b"
  },
  "kernelspec": {
   "display_name": "Python 3.9.7 64-bit",
   "language": "python",
   "name": "python3"
  },
  "language_info": {
   "codemirror_mode": {
    "name": "ipython",
    "version": 3
   },
   "file_extension": ".py",
   "mimetype": "text/x-python",
   "name": "python",
   "nbconvert_exporter": "python",
   "pygments_lexer": "ipython3",
   "version": "3.9.7"
  },
  "orig_nbformat": 4
 },
 "nbformat": 4,
 "nbformat_minor": 2
}
