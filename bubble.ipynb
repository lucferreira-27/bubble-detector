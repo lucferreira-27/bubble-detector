{
 "cells": [
  {
   "cell_type": "code",
   "execution_count": null,
   "metadata": {},
   "outputs": [],
   "source": [
    "!pip install configobj tqdm requests\n"
   ]
  },
  {
   "cell_type": "code",
   "execution_count": null,
   "metadata": {},
   "outputs": [],
   "source": [
    "import config\n",
    "import os\n",
    "import zipfile\n",
    "from inference import model2annotations\n",
    "from tqdm import tqdm\n",
    "import requests\n"
   ]
  },
  {
   "cell_type": "code",
   "execution_count": null,
   "metadata": {},
   "outputs": [],
   "source": [
    "def download_models(model_path='data/comictextdetector.pt'):\n",
    "    if os.path.exists(model_path):\n",
    "        print('ComicTextDetector model already exists.')\n",
    "        return\n",
    "\n",
    "    model_dir = os.path.dirname(model_path)\n",
    "    if not os.path.exists(model_dir):\n",
    "        print(f\"Creating directory {model_dir}\")\n",
    "        os.makedirs(model_dir)\n",
    "    \n",
    "    # Download ComicTextDetector model\n",
    "    model_url = 'https://github.com/zyddnys/manga-image-translator/releases/download/beta-0.2.1/comictextdetector.pt'\n",
    "    print('Downloading ComicTextDetector model...')\n",
    "    response = requests.get(model_url, stream=True)\n",
    "    total_size = int(response.headers.get('content-length', 0))\n",
    "    block_size = 1024\n",
    "    progress_bar = tqdm(total=total_size, unit='iB', unit_scale=True, ncols=50)\n",
    "    with open(model_path, 'wb') as f:\n",
    "        for data in response.iter_content(block_size):\n",
    "            progress_bar.update(len(data))\n",
    "            f.write(data)\n",
    "    progress_bar.close()\n",
    "    print('Download completed.')\n",
    "    \n",
    "def create_folder_if_not_exists(folder_path):\n",
    "    if not os.path.exists(folder_path):\n",
    "        os.makedirs(folder_path)\n",
    "\n",
    "def run_model2annotations(img_dir, model_path, save_dir, save_json=False):\n",
    "    # Convert images to annotations using ComicTextDetector model\n",
    "    print('Running ComicTextDetector model...')\n",
    "    \n",
    "    temp_images = []\n",
    "\n",
    "    # Create temporary images\n",
    "    for filename in os.listdir(img_dir):\n",
    "        if filename.endswith(\".cbz\"):\n",
    "            cbz_folder_name = os.path.join(save_dir, os.path.splitext(filename)[0])\n",
    "            create_folder_if_not_exists(cbz_folder_name)\n",
    "\n",
    "            with zipfile.ZipFile(os.path.join(img_dir, filename), 'r') as cbz_file:\n",
    "                for name in cbz_file.namelist():\n",
    "                    if name.lower().endswith(('.jpg', '.jpeg', '.png')):\n",
    "                        temp_img_path = os.path.join(cbz_folder_name, f'temp_{name}')\n",
    "                        with open(temp_img_path, 'wb') as temp_img:\n",
    "                            temp_img.write(cbz_file.read(name))\n",
    "                        temp_images.append(temp_img_path)\n",
    "        else:\n",
    "            model2annotations(model_path, img_dir, save_dir, save_json=save_json)\n",
    "\n",
    "    # Process temporary images with model2annotations\n",
    "    for temp_img_path in temp_images:\n",
    "        cbz_folder_name = os.path.dirname(temp_img_path)\n",
    "        model2annotations(model_path, cbz_folder_name, cbz_folder_name, save_json=save_json)\n",
    "        os.remove(temp_img_path)\n",
    "\n",
    "    print('\\nAnnotations saved to', save_dir)\n"
   ]
  },
  {
   "cell_type": "code",
   "execution_count": null,
   "metadata": {},
   "outputs": [],
   "source": [
    "model_path = 'model/comictextdetector.pt'\n",
    "download_models(model_path)\n",
    "\n",
    "# Define input and output directories\n",
    "img_dir = 'images'\n",
    "save_dir = 'outputs/speech-bubbles/'\n",
    "if not os.path.exists(save_dir):\n",
    "    os.makedirs(save_dir)\n",
    "\n",
    "# Run model2annotations\n",
    "run_model2annotations(img_dir, model_path, save_dir, save_json=True)\n"
   ]
  }
 ],
 "metadata": {
  "language_info": {
   "name": "python"
  },
  "orig_nbformat": 4
 },
 "nbformat": 4,
 "nbformat_minor": 2
}
